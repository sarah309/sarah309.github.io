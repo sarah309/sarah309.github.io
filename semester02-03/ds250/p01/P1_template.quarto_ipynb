{
  "cells": [
    {
      "cell_type": "markdown",
      "metadata": {},
      "source": [
        "---\n",
        "title: \"Client Report - What's in a Name?\"\n",
        "subtitle: \"Course DS 250\"\n",
        "author: \"Sarah Egendoerfer\"\n",
        "format:\n",
        "  html:\n",
        "    self-contained: true\n",
        "    page-layout: full\n",
        "    title-block-banner: true\n",
        "    toc: true\n",
        "    toc-depth: 3\n",
        "    toc-location: body\n",
        "    number-sections: false\n",
        "    html-math-method: katex\n",
        "    code-fold: true\n",
        "    code-summary: \"Show the code\"\n",
        "    code-overflow: wrap\n",
        "    code-copy: hover\n",
        "    code-tools:\n",
        "        source: false\n",
        "        toggle: true\n",
        "        caption: See code\n",
        "execute: \n",
        "  warning: false\n",
        "    \n",
        "---"
      ],
      "id": "dacf3bc7"
    },
    {
      "cell_type": "code",
      "metadata": {},
      "source": [
        "import pandas as pd\n",
        "import numpy as np\n",
        "from lets_plot import *\n",
        "\n",
        "LetsPlot.setup_html(isolated_frame=True)"
      ],
      "id": "0362f862",
      "execution_count": null,
      "outputs": []
    },
    {
      "cell_type": "markdown",
      "metadata": {},
      "source": [
        "## Project Notes\n",
        "\n",
        "__For Project 1 the answer to each question should include a chart **and** a written response. The years labels on your charts should not include a comma. At least **two** of your charts must include reference marks.__  \n"
      ],
      "id": "58d393c4"
    },
    {
      "cell_type": "code",
      "metadata": {},
      "source": [
        "# Learn morea about Code Cells: https://quarto.org/docs/reference/cells/cells-jupyter.html\n",
        "\n",
        "# Include and execute your code here\n",
        "df = pd.read_csv(\"https://github.com/byuidatascience/data4names/raw/master/data-raw/names_year/names_year.csv\")"
      ],
      "id": "61b23fff",
      "execution_count": null,
      "outputs": []
    },
    {
      "cell_type": "markdown",
      "metadata": {},
      "source": [
        "## QUESTION|TASK 1\n",
        "\n",
        "__How does your name at your birth year compare to its use historically?__\n",
        "\n",
        "_type your results and analysis here_\n"
      ],
      "id": "dc919137"
    },
    {
      "cell_type": "code",
      "metadata": {},
      "source": [
        "# Include and execute your code here\n"
      ],
      "id": "dc9e4246",
      "execution_count": null,
      "outputs": []
    },
    {
      "cell_type": "markdown",
      "metadata": {},
      "source": [
        "## QUESTION|TASK 2\n",
        "\n",
        "__If you talked to someone named Brittany on the phone, what is your guess of his or her age? What ages would you not guess?__\n",
        "\n",
        "_type your results and analysis here_\n"
      ],
      "id": "fc993b57"
    },
    {
      "cell_type": "code",
      "metadata": {},
      "source": [
        "# Include and execute your code here\n"
      ],
      "id": "6599201b",
      "execution_count": null,
      "outputs": []
    },
    {
      "cell_type": "markdown",
      "metadata": {},
      "source": [
        "## QUESTION|TASK 3\n",
        "\n",
        "__Mary, Martha, Peter, and Paul are all Christian names. From 1920 - 2000, compare the name usage of each of the four names in a single chart. What trends do you notice?__\n",
        "\n",
        "_type your results and analysis here_\n"
      ],
      "id": "00914da6"
    },
    {
      "cell_type": "code",
      "metadata": {},
      "source": [
        "# Include and execute your code here"
      ],
      "id": "52aaa1d7",
      "execution_count": null,
      "outputs": []
    },
    {
      "cell_type": "markdown",
      "metadata": {},
      "source": [
        "## QUESTION|TASK 4\n",
        "\n",
        "__Think of a unique name from a famous movie. Plot the usage of that name and see how changes line up with the movie release. Does it look like the movie had an effect on usage?__  \n",
        "\n",
        "_type your results and analysis here_\n"
      ],
      "id": "3018e315"
    },
    {
      "cell_type": "code",
      "metadata": {},
      "source": [
        "# Include and execute your code here\n"
      ],
      "id": "4dec8b93",
      "execution_count": null,
      "outputs": []
    },
    {
      "cell_type": "markdown",
      "metadata": {},
      "source": [
        "---\n",
        "\n",
        "## STRETCH QUESTION|TASK 1\n",
        "\n",
        "__Reproduce the chart Elliot using the data from the `names_year.csv` file.__ \n",
        "\n",
        "_type your results and analysis here_\n"
      ],
      "id": "f8744a4d"
    },
    {
      "cell_type": "code",
      "metadata": {},
      "source": [
        "# Include and execute your code here\n"
      ],
      "id": "6499d245",
      "execution_count": null,
      "outputs": []
    },
    {
      "cell_type": "markdown",
      "metadata": {},
      "source": [
        "---"
      ],
      "id": "59cbf512"
    }
  ],
  "metadata": {
    "kernelspec": {
      "name": "python3",
      "language": "python",
      "display_name": "Python 3 (ipykernel)",
      "path": "C:\\Users\\egen1\\AppData\\Local\\Programs\\Python\\Python313\\share\\jupyter\\kernels\\python3"
    }
  },
  "nbformat": 4,
  "nbformat_minor": 5
}